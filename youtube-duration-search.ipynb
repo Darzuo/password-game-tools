{
 "cells": [
  {
   "cell_type": "code",
   "execution_count": 75,
   "metadata": {},
   "outputs": [
    {
     "name": "stdout",
     "output_type": "stream",
     "text": [
      "Requirement already satisfied: google-api-python-client in c:\\users\\steve\\anaconda3\\lib\\site-packages (2.91.0)\n",
      "Requirement already satisfied: uritemplate<5,>=3.0.1 in c:\\users\\steve\\anaconda3\\lib\\site-packages (from google-api-python-client) (4.1.1)\n",
      "Requirement already satisfied: google-auth-httplib2>=0.1.0 in c:\\users\\steve\\anaconda3\\lib\\site-packages (from google-api-python-client) (0.1.0)\n",
      "Requirement already satisfied: google-api-core!=2.0.*,!=2.1.*,!=2.2.*,!=2.3.0,<3.0.0.dev0,>=1.31.5 in c:\\users\\steve\\anaconda3\\lib\\site-packages (from google-api-python-client) (2.10.0)\n",
      "Requirement already satisfied: httplib2<1.dev0,>=0.15.0 in c:\\users\\steve\\anaconda3\\lib\\site-packages (from google-api-python-client) (0.22.0)\n",
      "Requirement already satisfied: google-auth<3.0.0.dev0,>=1.19.0 in c:\\users\\steve\\anaconda3\\lib\\site-packages (from google-api-python-client) (2.11.0)\n",
      "Requirement already satisfied: googleapis-common-protos<2.0dev,>=1.56.2 in c:\\users\\steve\\anaconda3\\lib\\site-packages (from google-api-core!=2.0.*,!=2.1.*,!=2.2.*,!=2.3.0,<3.0.0.dev0,>=1.31.5->google-api-python-client) (1.56.4)\n",
      "Requirement already satisfied: requests<3.0.0dev,>=2.18.0 in c:\\users\\steve\\anaconda3\\lib\\site-packages (from google-api-core!=2.0.*,!=2.1.*,!=2.2.*,!=2.3.0,<3.0.0.dev0,>=1.31.5->google-api-python-client) (2.27.1)\n",
      "Requirement already satisfied: protobuf<5.0.0dev,>=3.20.1 in c:\\users\\steve\\anaconda3\\lib\\site-packages (from google-api-core!=2.0.*,!=2.1.*,!=2.2.*,!=2.3.0,<3.0.0.dev0,>=1.31.5->google-api-python-client) (3.20.3)\n",
      "Requirement already satisfied: rsa<5,>=3.1.4 in c:\\users\\steve\\anaconda3\\lib\\site-packages (from google-auth<3.0.0.dev0,>=1.19.0->google-api-python-client) (4.9)\n",
      "Requirement already satisfied: pyasn1-modules>=0.2.1 in c:\\users\\steve\\anaconda3\\lib\\site-packages (from google-auth<3.0.0.dev0,>=1.19.0->google-api-python-client) (0.2.8)\n",
      "Requirement already satisfied: cachetools<6.0,>=2.0.0 in c:\\users\\steve\\anaconda3\\lib\\site-packages (from google-auth<3.0.0.dev0,>=1.19.0->google-api-python-client) (5.3.0)\n",
      "Requirement already satisfied: six>=1.9.0 in c:\\users\\steve\\anaconda3\\lib\\site-packages (from google-auth<3.0.0.dev0,>=1.19.0->google-api-python-client) (1.16.0)\n",
      "Requirement already satisfied: pyparsing!=3.0.0,!=3.0.1,!=3.0.2,!=3.0.3,<4,>=2.4.2 in c:\\users\\steve\\anaconda3\\lib\\site-packages (from httplib2<1.dev0,>=0.15.0->google-api-python-client) (3.0.9)\n",
      "Requirement already satisfied: pyasn1<0.5.0,>=0.4.6 in c:\\users\\steve\\anaconda3\\lib\\site-packages (from pyasn1-modules>=0.2.1->google-auth<3.0.0.dev0,>=1.19.0->google-api-python-client) (0.4.8)\n",
      "Requirement already satisfied: charset-normalizer~=2.0.0 in c:\\users\\steve\\anaconda3\\lib\\site-packages (from requests<3.0.0dev,>=2.18.0->google-api-core!=2.0.*,!=2.1.*,!=2.2.*,!=2.3.0,<3.0.0.dev0,>=1.31.5->google-api-python-client) (2.0.4)\n",
      "Requirement already satisfied: certifi>=2017.4.17 in c:\\users\\steve\\anaconda3\\lib\\site-packages (from requests<3.0.0dev,>=2.18.0->google-api-core!=2.0.*,!=2.1.*,!=2.2.*,!=2.3.0,<3.0.0.dev0,>=1.31.5->google-api-python-client) (2022.9.14)\n",
      "Requirement already satisfied: urllib3<1.27,>=1.21.1 in c:\\users\\steve\\anaconda3\\lib\\site-packages (from requests<3.0.0dev,>=2.18.0->google-api-core!=2.0.*,!=2.1.*,!=2.2.*,!=2.3.0,<3.0.0.dev0,>=1.31.5->google-api-python-client) (1.26.11)Note: you may need to restart the kernel to use updated packages.\n",
      "\n",
      "Requirement already satisfied: idna<4,>=2.5 in c:\\users\\steve\\anaconda3\\lib\\site-packages (from requests<3.0.0dev,>=2.18.0->google-api-core!=2.0.*,!=2.1.*,!=2.2.*,!=2.3.0,<3.0.0.dev0,>=1.31.5->google-api-python-client) (3.3)\n",
      "Collecting tk\n",
      "  Downloading tk-0.1.0-py3-none-any.whl (3.9 kB)\n",
      "Installing collected packages: tk\n",
      "Successfully installed tk-0.1.0\n",
      "Note: you may need to restart the kernel to use updated packages.\n"
     ]
    }
   ],
   "source": [
    "%pip install google-api-python-client\n",
    "%pip install tk"
   ]
  },
  {
   "cell_type": "code",
   "execution_count": 11,
   "metadata": {},
   "outputs": [],
   "source": [
    "import googleapiclient.discovery\n",
    "from tqdm import tqdm\n",
    "from time import sleep\n",
    "import tkinter as tk\n",
    "import keys\n",
    "\n",
    "api_service_name = \"youtube\"\n",
    "api_version = \"v3\"\n",
    "\n",
    "key = keys.api_key\n",
    "youtube = googleapiclient.discovery.build(api_service_name, api_version, developerKey=key)\n",
    "\n",
    "def getLinks(timeStr, maxCount):\n",
    "    time = timeStr.split(':')\n",
    "    minutes = str(int(time[0]))\n",
    "    seconds = str(int(time[1]))\n",
    "    duration = 'short'\n",
    "    if int(minutes) >= 4:\n",
    "        duration = 'medium'\n",
    "    if int(minutes) > 20:\n",
    "        duration = 'long'\n",
    "    print(duration)\n",
    "    outIds=[]\n",
    "    count = 0\n",
    "    with tqdm(total=maxCount) as pbar:\n",
    "        while count < maxCount:\n",
    "            print('outer looping')\n",
    "            listRequest = youtube.search().list(\n",
    "                    part='snippet',\n",
    "                    type='video',\n",
    "                    videoDuration=duration,\n",
    "                    q=minutes + ' minute'\n",
    "                )\n",
    "            listResponse = listRequest.execute()\n",
    "            while 'nextPageToken' in listResponse.keys() and count < maxCount:\n",
    "                nextPageToken = listResponse['nextPageToken']\n",
    "                listRequest = youtube.search().list(\n",
    "                    part='snippet',\n",
    "                    type='video',\n",
    "                    videoDuration=duration,\n",
    "                    maxResults=50,\n",
    "                    pageToken=nextPageToken,\n",
    "                    q=minutes + ' minute'\n",
    "                )\n",
    "                listResponse = listRequest.execute()\n",
    "                videos = listResponse['items']\n",
    "                if videos is None or len(videos) == 0:\n",
    "                    print(\"empty videos, breaking\")\n",
    "                    break\n",
    "                ids = []\n",
    "                for video in videos:\n",
    "                    ids.append(video['id']['videoId'])\n",
    "                request = youtube.videos().list(\n",
    "                    part='contentDetails',\n",
    "                    id=ids\n",
    "                )\n",
    "                response = request.execute()\n",
    "                items = response['items']\n",
    "                for item in items:\n",
    "                    sleep(0.01)\n",
    "                    count+=1\n",
    "                    pbar.update(1)\n",
    "                    isoTime = item['contentDetails']['duration']\n",
    "                    timeArr = isoTime.split('M')\n",
    "                    tempMin = ''.join(c for c in timeArr[0] if c.isdigit()) if len(timeArr) > 1 else \"0\"\n",
    "                    tempSec = ''.join(c for c in timeArr[1] if c.isdigit()) if len(timeArr) > 1 else ''.join(c for c in timeArr[0] if c.isdigit())\n",
    "                    if minutes == tempMin and seconds == tempSec:\n",
    "                        print('found one!')\n",
    "                        outIds.append(item['id'])\n",
    "    outLinks = []\n",
    "    for outId in outIds:\n",
    "        outLinks.append('https://www.youtube.com/watch?v='+outId)\n",
    "    return outLinks\n",
    "\n",
    "def getNumCount(s):\n",
    "    return sum(c.isdigit() for c in s)"
   ]
  },
  {
   "cell_type": "code",
   "execution_count": 18,
   "metadata": {},
   "outputs": [
    {
     "name": "stdout",
     "output_type": "stream",
     "text": [
      "medium\n"
     ]
    },
    {
     "name": "stderr",
     "output_type": "stream",
     "text": [
      "  0%|          | 0/500 [00:00<?, ?it/s]"
     ]
    },
    {
     "name": "stdout",
     "output_type": "stream",
     "text": [
      "outer looping\n"
     ]
    },
    {
     "name": "stderr",
     "output_type": "stream",
     "text": [
      " 57%|█████▋    | 287/500 [00:09<00:04, 46.63it/s]"
     ]
    },
    {
     "name": "stdout",
     "output_type": "stream",
     "text": [
      "found one!\n"
     ]
    },
    {
     "name": "stderr",
     "output_type": "stream",
     "text": [
      "100%|██████████| 500/500 [00:17<00:00, 29.14it/s]\n"
     ]
    },
    {
     "name": "stdout",
     "output_type": "stream",
     "text": [
      "['https://www.youtube.com/watch?v=iY7BrTIXVkk']\n"
     ]
    }
   ],
   "source": [
    "time = '9:28'\n",
    "maxCount = 500\n",
    "\n",
    "links = getLinks(time, maxCount)\n",
    "links.sort(key=getNumCount)\n",
    "print(links)"
   ]
  }
 ],
 "metadata": {
  "kernelspec": {
   "display_name": "Python 3",
   "language": "python",
   "name": "python3"
  },
  "language_info": {
   "codemirror_mode": {
    "name": "ipython",
    "version": 3
   },
   "file_extension": ".py",
   "mimetype": "text/x-python",
   "name": "python",
   "nbconvert_exporter": "python",
   "pygments_lexer": "ipython3",
   "version": "3.9.13"
  },
  "orig_nbformat": 4
 },
 "nbformat": 4,
 "nbformat_minor": 2
}
