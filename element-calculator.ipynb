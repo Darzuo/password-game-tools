{
 "cells": [
  {
   "cell_type": "code",
   "execution_count": 12,
   "metadata": {},
   "outputs": [],
   "source": [
    "import re\n",
    "\n",
    "elements = ['H','He','Li','Be','B','C','N','O','F','Ne',\n",
    "           'Na','Mg','Al','Si','P','S','Cl','Ar','K', 'Ca',\n",
    "           'Sc', 'Ti', 'V','Cr', 'Mn', 'Fe', 'Co', 'Ni',\n",
    "           'Cu', 'Zn', 'Ga', 'Ge', 'As', 'Se', 'Br', 'Kr',\n",
    "           'Rb', 'Sr', 'Y', 'Zr', 'Nb', 'Mo', 'Tc', 'Ru',\n",
    "           'Rh', 'Pd', 'Ag', 'Cd', 'In', 'Sn', 'Sb', 'Te',\n",
    "           'I', 'Xe','Cs', 'Ba','La', 'Ce', 'Pr', 'Nd', 'Pm',\n",
    "           'Sm', 'Eu', 'Gd', 'Tb', 'Dy', 'Ho', 'Er', 'Tm',\n",
    "           'Yb', 'Lu', 'Hf', 'Ta', 'W', 'Re', 'Os', 'Ir',\n",
    "           'Pt', 'Au', 'Hg', 'Tl', 'Pb', 'Bi', 'Po', 'At', 'Rn',\n",
    "           'Fr', 'Ra', 'Ac', 'Th', 'Pa', 'U', 'Np', 'Pu', 'Am',\n",
    "           'Cm', 'Bk', 'Cf', 'Es', 'Fm', 'Md', 'No', 'Lr',\n",
    "           'Rf', 'Db', 'Sg', 'Bh','Hs', 'Mt', 'Ds', 'Rg', 'Cn',\n",
    "           'Nh', 'Fl', 'Mc', 'Lv', 'Ts', 'Og']\n",
    "values = [i for i in range(1, 119)]\n",
    "\n",
    "romanNumerals = ['I', 'V', 'X', 'L', 'C', 'D', 'M']\n",
    "\n",
    "elementDict = dict()\n",
    "for i in range(len(elements)):\n",
    "    elementDict[elements[i]] = values[i]\n",
    "    elementDict[values[i]] = elements[i]\n",
    "\n",
    "def elementStringToList(s):\n",
    "    return re.sub( r\"([A-Z])\", r\" \\1\", s).split()\n",
    "\n",
    "def getRemaining(elements, total=200):\n",
    "    cur = 0\n",
    "    for element in elements:\n",
    "        cur += elementDict[element]\n",
    "    if cur > total:\n",
    "        print('Total value is ' + str(cur) + ', invalid solution.')\n",
    "        return None\n",
    "    remaining = total-cur\n",
    "    print('Total value is ' + str(cur) + ', remaining is ' + str(remaining))\n",
    "    elementString = ''\n",
    "    if remaining > 118:\n",
    "        elementString += 'Og'\n",
    "        remaining -= 118\n",
    "    while(any(numeral in elementDict[remaining] for numeral in romanNumerals)):\n",
    "        elementString += 'H'\n",
    "        remaining -= 1\n",
    "    elementString += elementDict[remaining]\n",
    "    print('Your element string is: ' + elementString)\n",
    "\n",
    "\n"
   ]
  },
  {
   "cell_type": "code",
   "execution_count": 17,
   "metadata": {},
   "outputs": [
    {
     "name": "stdout",
     "output_type": "stream",
     "text": [
      "Total value is 250, invalid solution.\n"
     ]
    }
   ],
   "source": [
    "\n",
    "elementString = 'HeVReBrVIY'\n",
    "\n",
    "getRemaining(elementStringToList(elementString))\n"
   ]
  }
 ],
 "metadata": {
  "kernelspec": {
   "display_name": "base",
   "language": "python",
   "name": "python3"
  },
  "language_info": {
   "codemirror_mode": {
    "name": "ipython",
    "version": 3
   },
   "file_extension": ".py",
   "mimetype": "text/x-python",
   "name": "python",
   "nbconvert_exporter": "python",
   "pygments_lexer": "ipython3",
   "version": "3.9.13"
  },
  "orig_nbformat": 4
 },
 "nbformat": 4,
 "nbformat_minor": 2
}
