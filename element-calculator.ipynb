{
 "cells": [
  {
   "cell_type": "code",
   "execution_count": 2,
   "metadata": {},
   "outputs": [],
   "source": [
    "import re\n",
    "import info\n",
    "\n",
    "elementDict = info.elementDict\n",
    "romanNumerals = info.romanNumerals\n",
    "\n",
    "def elementStringToList(s):\n",
    "    return re.sub( r\"([A-Z])\", r\" \\1\", s).split()\n",
    "\n",
    "def getRemaining(elements, total=200):\n",
    "    cur = 0\n",
    "    for element in elements:\n",
    "        cur += elementDict[element]\n",
    "    if cur > total:\n",
    "        print('Total value is ' + str(cur) + ', invalid solution.')\n",
    "        return None\n",
    "    remaining = total-cur\n",
    "    print('Total value is ' + str(cur) + ', remaining is ' + str(remaining))\n",
    "    elementString = ''\n",
    "    if remaining > 118:\n",
    "        elementString += 'Og'\n",
    "        remaining -= 118\n",
    "    while(any(numeral in elementDict[remaining] for numeral in romanNumerals)):\n",
    "        elementString += 'H'\n",
    "        remaining -= 1\n",
    "    elementString += elementDict[remaining]\n",
    "    print('Your element string is: ' + elementString)\n"
   ]
  },
  {
   "cell_type": "code",
   "execution_count": 4,
   "metadata": {},
   "outputs": [
    {
     "name": "stdout",
     "output_type": "stream",
     "text": [
      "Total value is 97, remaining is 103\n",
      "Your element string is: HNo\n"
     ]
    }
   ],
   "source": [
    "\n",
    "elementString = 'VW'\n",
    "\n",
    "getRemaining(elementStringToList(elementString))\n"
   ]
  }
 ],
 "metadata": {
  "kernelspec": {
   "display_name": "base",
   "language": "python",
   "name": "python3"
  },
  "language_info": {
   "codemirror_mode": {
    "name": "ipython",
    "version": 3
   },
   "file_extension": ".py",
   "mimetype": "text/x-python",
   "name": "python",
   "nbconvert_exporter": "python",
   "pygments_lexer": "ipython3",
   "version": "3.9.13"
  },
  "orig_nbformat": 4
 },
 "nbformat": 4,
 "nbformat_minor": 2
}
